{
 "cells": [
  {
   "cell_type": "code",
   "execution_count": null,
   "metadata": {},
   "outputs": [],
   "source": [
    "# Q1\n",
    "\n",
    "using CSV, DataFrames, LinearAlgebra\n",
    "\n",
    "raw = CSV.read(\"uy_data.csv\", header=0, DataFrame);\n",
    "\n",
    "u = raw[:, 1];\n",
    "y = raw[:, 2];"
   ]
  },
  {
   "cell_type": "code",
   "execution_count": null,
   "metadata": {},
   "outputs": [],
   "source": [
    "# plot the u and y data\n",
    "using PyPlot\n",
    "PyPlot.svg(true);\n",
    "\n",
    "figure(figsize=(12,4));\n",
    "plot([u y], \".-\");\n",
    "legend([\"input u\", \"output y\"], loc=\"lower right\");\n",
    "title(\"Input and output data\");"
   ]
  },
  {
   "cell_type": "code",
   "execution_count": null,
   "metadata": {},
   "outputs": [],
   "source": [
    "# plot the other two similarly\n",
    "\n",
    "yest_ma = zeros(size(y))\n",
    "\n",
    "println(\"The norm of the error using MA is: \", norm(yest_ma - y));\n",
    "flush(stdout);\n",
    "\n",
    "figure(figsize=(12,4));\n",
    "plot(y, \"g.-\", yest_ma, \"m.-\");\n",
    "legend([\"true output\", \"predicted output\"], loc=\"lower right\");\n",
    "title(\"Moving average model\");"
   ]
  },
  {
   "cell_type": "code",
   "execution_count": null,
   "metadata": {},
   "outputs": [],
   "source": [
    "# Q2\n",
    "\n",
    "y = [6.31, 3.78, 24, 1.71, 2.99, 4.53, 2.11, 3.88, 4.67, 4.25, 2.06, 23, 1.58, 2.17, 0.02];\n",
    "x = 1:15;"
   ]
  },
  {
   "cell_type": "code",
   "execution_count": null,
   "metadata": {
    "scrolled": true
   },
   "outputs": [],
   "source": [
    "# Make all the plots\n",
    "\n",
    "a1, a2, a3, a4, a5, a6, b1, b2, b3, b4, b5, b6 = [0 for _ = 1:12];\n",
    "\n",
    "using PyPlot\n",
    "figure(figsize = (17,7));\n",
    "scatter(x,y,label=\"data\",color = \"black\");\n",
    "scatter([x[3],x[12]],[y[3],y[12]],label=\"outliers\",color = \"red\"); # outliers\n",
    "\n",
    "plot(x, a1*x .+ b1,label=\"l2 with outliers\");\n",
    "plot(x, a2*x .+ b2,label=\"l2 without outliers\");\n",
    "\n",
    "plot(x, a3*x .+ b3,label=\"l1 with outliers\");\n",
    "plot(x, a4*x .+ b4,label=\"l1 without outliers\");\n",
    "\n",
    "plot(x, a5*x .+ b5,label=\"Huber with outliers\");\n",
    "plot(x, a6*x .+ b6,label=\"Huber without outliers\");\n",
    "legend(loc =\"best\");\n",
    "ylabel(\"y\");\n",
    "xlabel(\"x\");\n"
   ]
  }
 ],
 "metadata": {
  "kernelspec": {
   "display_name": "Julia 1.5.3",
   "language": "julia",
   "name": "julia-1.5"
  },
  "language_info": {
   "file_extension": ".jl",
   "mimetype": "application/julia",
   "name": "julia",
   "version": "1.5.3"
  }
 },
 "nbformat": 4,
 "nbformat_minor": 2
}
