{
 "cells": [
  {
   "cell_type": "code",
   "execution_count": null,
   "metadata": {},
   "outputs": [
    {
     "name": "stderr",
     "output_type": "stream",
     "text": [
      "\u001b[32m\u001b[1m   Updating\u001b[22m\u001b[39m registry at `C:\\Users\\jingd\\.julia\\registries\\General`\n"
     ]
    }
   ],
   "source": [
    "using Pkg\n",
    "Pkg.add(\"PyPlot\")"
   ]
  },
  {
   "cell_type": "code",
   "execution_count": 1,
   "metadata": {},
   "outputs": [
    {
     "name": "stderr",
     "output_type": "stream",
     "text": [
      "┌ Info: Precompiling PyPlot [d330b81b-6aea-500a-939a-2ce795aea3ee]\n",
      "└ @ Base loading.jl:1278\n",
      "┌ Info: Installing matplotlib via the Conda matplotlib package...\n",
      "└ @ PyCall C:\\Users\\jingd\\.julia\\packages\\PyCall\\tqyST\\src\\PyCall.jl:708\n",
      "┌ Info: Running `conda install -y matplotlib` in root environment\n",
      "└ @ Conda C:\\Users\\jingd\\.julia\\packages\\Conda\\x5ml4\\src\\Conda.jl:115\n"
     ]
    },
    {
     "name": "stdout",
     "output_type": "stream",
     "text": [
      "Collecting package metadata (current_repodata.json): ...working... done\n",
      "Solving environment: ...working... done\n",
      "\n",
      "## Package Plan ##\n",
      "\n",
      "  environment location: C:\\Users\\jingd\\.julia\\conda\\3\n",
      "\n",
      "  added / updated specs:\n",
      "    - matplotlib\n",
      "\n",
      "\n",
      "The following packages will be downloaded:\n",
      "\n",
      "    package                    |            build\n",
      "    ---------------------------|-----------------\n",
      "    cycler-0.10.0              |           py38_0          14 KB\n",
      "    freetype-2.10.4            |       hd328e21_0         466 KB\n",
      "    kiwisolver-1.3.1           |   py38hd77b12b_0          52 KB\n",
      "    libtiff-4.2.0              |       hd0e1b90_0         786 KB\n",
      "    lz4-c-1.9.3                |       h2bbff1b_0         131 KB\n",
      "    matplotlib-3.3.4           |   py38haa95532_0          27 KB\n",
      "    matplotlib-base-3.3.4      |   py38h49ac443_0         5.1 MB\n",
      "    olefile-0.46               |             py_0          33 KB\n",
      "    pillow-8.1.2               |   py38h4fa10fc_0         665 KB\n",
      "    tk-8.6.10                  |       he774522_0         2.7 MB\n",
      "    xz-5.2.5                   |       h62dcd97_0         244 KB\n",
      "    zstd-1.4.5                 |       h04227a9_0         456 KB\n",
      "    ------------------------------------------------------------\n",
      "                                           Total:        10.6 MB\n",
      "\n",
      "The following NEW packages will be INSTALLED:\n",
      "\n",
      "  cycler             pkgs/main/win-64::cycler-0.10.0-py38_0\n",
      "  freetype           pkgs/main/win-64::freetype-2.10.4-hd328e21_0\n",
      "  kiwisolver         pkgs/main/win-64::kiwisolver-1.3.1-py38hd77b12b_0\n",
      "  libtiff            pkgs/main/win-64::libtiff-4.2.0-hd0e1b90_0\n",
      "  lz4-c              pkgs/main/win-64::lz4-c-1.9.3-h2bbff1b_0\n",
      "  matplotlib         pkgs/main/win-64::matplotlib-3.3.4-py38haa95532_0\n",
      "  matplotlib-base    pkgs/main/win-64::matplotlib-base-3.3.4-py38h49ac443_0\n",
      "  olefile            pkgs/main/noarch::olefile-0.46-py_0\n",
      "  pillow             pkgs/main/win-64::pillow-8.1.2-py38h4fa10fc_0\n",
      "  tk                 pkgs/main/win-64::tk-8.6.10-he774522_0\n",
      "  xz                 pkgs/main/win-64::xz-5.2.5-h62dcd97_0\n",
      "  zstd               pkgs/main/win-64::zstd-1.4.5-h04227a9_0\n",
      "\n",
      "\n",
      "\n",
      "Downloading and Extracting Packages\n",
      "xz-5.2.5             | 244 KB    | ########## | 100% \n",
      "matplotlib-base-3.3. | 5.1 MB    | ########## | 100% \n",
      "freetype-2.10.4      | 466 KB    | ########## | 100% \n",
      "pillow-8.1.2         | 665 KB    | ########## | 100% \n",
      "tk-8.6.10            | 2.7 MB    | ########## | 100% \n",
      "lz4-c-1.9.3          | 131 KB    | ########## | 100% \n",
      "libtiff-4.2.0        | 786 KB    | ########## | 100% \n",
      "matplotlib-3.3.4     | 27 KB     | ########## | 100% \n",
      "olefile-0.46         | 33 KB     | ########## | 100% \n",
      "zstd-1.4.5           | 456 KB    | ########## | 100% \n",
      "kiwisolver-1.3.1     | 52 KB     | ########## | 100% \n",
      "cycler-0.10.0        | 14 KB     | ########## | 100% \n",
      "Preparing transaction: ...working... done\n",
      "Verifying transaction: ...working... done\n",
      "Executing transaction: ...working... done\n"
     ]
    },
    {
     "data": {
      "image/png": "[encoded data removed]",
      "text/plain": [
       "Figure(PyObject <Figure size 600x500 with 1 Axes>)"
      ]
     },
     "metadata": {},
     "output_type": "display_data"
    }
   ],
   "source": [
    "using PyPlot\n",
    "\n",
    "# Defining a function to plot the outline of the museum area\n",
    "function plot_site(mode)\n",
    "    plot([0,0], [0,500], \"b-\")\n",
    "    plot([0,500], [0,0], \"b-\")\n",
    "    plot([500,600], [0,300],\"b-\")\n",
    "    plot([300,600], [500,300],\"b-\")\n",
    "    plot([0,300], [500,500],\"b-\")\n",
    "    axis(\"image\")\n",
    "    axis([-.5,6.5,-.5,5.5]*100)\n",
    "    grid()\n",
    "end\n",
    "\n",
    "figure(figsize=(6,5))\n",
    "plot_site(1)"
   ]
  },
  {
   "cell_type": "code",
   "execution_count": null,
   "metadata": {},
   "outputs": [],
   "source": []
  }
 ],
 "metadata": {
  "kernelspec": {
   "display_name": "Julia 1.5.3",
   "language": "julia",
   "name": "julia-1.5"
  },
  "language_info": {
   "file_extension": ".jl",
   "mimetype": "application/julia",
   "name": "julia",
   "version": "1.5.3"
  }
 },
 "nbformat": 4,
 "nbformat_minor": 4
}
