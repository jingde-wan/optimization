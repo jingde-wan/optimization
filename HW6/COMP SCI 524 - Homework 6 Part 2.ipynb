{
 "cells": [
  {
   "cell_type": "markdown",
   "id": "controversial-acceptance",
   "metadata": {},
   "source": [
    "### Q3"
   ]
  },
  {
   "cell_type": "markdown",
   "id": "utility-vacuum",
   "metadata": {},
   "source": [
    "#### (a)"
   ]
  },
  {
   "cell_type": "code",
   "execution_count": 1,
   "id": "welcome-driver",
   "metadata": {},
   "outputs": [
    {
     "data": {
      "image/png": "[encoded data removed]",
      "text/plain": [
       "Figure(PyObject <Figure size 640x480 with 1 Axes>)"
      ]
     },
     "metadata": {},
     "output_type": "display_data"
    }
   ],
   "source": [
    "using PyPlot, CSV, DataFrames\n",
    "\n",
    "data = CSV.read(\"lasso_data.csv\", DataFrame)\n",
    "x = data[:,1]\n",
    "y = data[:,2]\n",
    "plot(x, y, \".\");\n",
    "xlabel(\"x\"); ylabel(\"y\");\n",
    "n=size(data, 1);"
   ]
  },
  {
   "cell_type": "code",
   "execution_count": 4,
   "id": "diagnostic-macro",
   "metadata": {},
   "outputs": [],
   "source": [
    "k=5 # degree of polynomial\n",
    "\n",
    "n = length(x)\n",
    "A = zeros(n, k+1)\n",
    "for i = 1:n\n",
    "    for j = 1:k+1\n",
    "        A[i,j] = x[i]^(k+1-j)\n",
    "    end\n",
    "end"
   ]
  },
  {
   "cell_type": "code",
   "execution_count": null,
   "id": "authorized-principle",
   "metadata": {},
   "outputs": [],
   "source": [
    "using JuMP, Gurobi\n",
    "\n",
    "m1 = Model(Gurobi.Optimizer)\n",
    "set_optimizer_attribute(m1, \"OutputFlag\", 0);\n",
    "\n",
    "@variable(m1, u[1:k+1])\n",
    "@objective(m1, Min, sum((y-A*u).^2))\n",
    "\n",
    "optimize!(m1)\n",
    "u_opt = value.(u)\n",
    "println(termination_status(m1))\n",
    "println(\"optimal parameters for k=5 case:\", value.(u))"
   ]
  },
  {
   "cell_type": "code",
   "execution_count": null,
   "id": "combined-ivory",
   "metadata": {},
   "outputs": [],
   "source": [
    "using PyPlot, LinearAlgebra\n",
    "\n",
    "npts = 100\n",
    "xfine = range(0, stop=0.5, length=npts) #0.6\n",
    "ffine = ones(npts)\n",
    "\n",
    "for j = 1:k\n",
    "    ffine = [ffine.*xfine ones(npts)]\n",
    "end\n",
    "\n",
    "yfine = ffine * u_opt\n",
    "\n",
    "plot(x,y,\"b.\")\n",
    "plot(xfine,yfine,\"r-\")\n",
    "grid()"
   ]
  },
  {
   "cell_type": "code",
   "execution_count": null,
   "id": "loose-mortality",
   "metadata": {},
   "outputs": [],
   "source": []
  },
  {
   "cell_type": "code",
   "execution_count": null,
   "id": "understanding-defendant",
   "metadata": {},
   "outputs": [],
   "source": [
    "k=15 # degree of polynomial\n",
    "\n",
    "n = length(x)\n",
    "A = zeros(n, k+1)\n",
    "for i = 1:n\n",
    "    for j = 1:k+1\n",
    "        A[i,j] = x[i]^(k+1-j)\n",
    "    end\n",
    "end"
   ]
  },
  {
   "cell_type": "code",
   "execution_count": null,
   "id": "smooth-presentation",
   "metadata": {},
   "outputs": [],
   "source": [
    "using JuMP, Gurobi\n",
    "\n",
    "m2 = Model(Gurobi.Optimizer)\n",
    "set_optimizer_attribute(m1, \"OutputFlag\", 0);\n",
    "\n",
    "@variable(m2, u[1:k+1])\n",
    "@objective(m2, Min, sum((y-A*u).^2))\n",
    "\n",
    "optimize!(m2)\n",
    "u_opt = value.(u)\n",
    "println(termination_status(m2))\n",
    "println(\"optimal parameters for k=15 case:\", value.(u))"
   ]
  },
  {
   "cell_type": "code",
   "execution_count": null,
   "id": "virtual-ceiling",
   "metadata": {},
   "outputs": [],
   "source": [
    "using PyPlot, LinearAlgebra\n",
    "\n",
    "npts = 100\n",
    "xfine = range(0, stop=0.5, length=npts) #0.6\n",
    "ffine = ones(npts)\n",
    "\n",
    "for j = 1:k\n",
    "    ffine = [ffine.*xfine ones(npts)]\n",
    "end\n",
    "\n",
    "yfine = ffine * u_opt\n",
    "\n",
    "plot(x,y,\"b.\")\n",
    "plot(xfine,yfine,\"r-\")\n",
    "grid()"
   ]
  },
  {
   "cell_type": "markdown",
   "id": "wound-turtle",
   "metadata": {},
   "source": [
    "The magnitudes of coefficients are large."
   ]
  },
  {
   "cell_type": "markdown",
   "id": "adjusted-pulse",
   "metadata": {},
   "source": [
    "#### (b)"
   ]
  },
  {
   "cell_type": "code",
   "execution_count": 5,
   "id": "spectacular-designation",
   "metadata": {},
   "outputs": [],
   "source": [
    "k = 15\n",
    "\n",
    "n = length(x)\n",
    "A = zeros(n, k+1)\n",
    "for i = 1:n\n",
    "    for j = 1:k+1\n",
    "        A[i,j] = x[i]^(k+1-j)\n",
    "    end\n",
    "end"
   ]
  },
  {
   "cell_type": "code",
   "execution_count": null,
   "id": "answering-opposition",
   "metadata": {},
   "outputs": [],
   "source": [
    "using JuMP, Gurobi\n",
    "\n",
    "lambda = 1/(10^6)\n",
    "\n",
    "m3 = Model(Gurobi.Optimizer)\n",
    "set_optimizer_attribute(m3, \"OutputFlag\", 0);\n",
    "\n",
    "@variable(m3, u[1:k+1])\n",
    "@objective(m3, Min, sum((y-A*u).^2) + lambda*sum(u.^2))\n",
    "\n",
    "optimize!(m3)\n",
    "u_opt = value.(u)\n",
    "println(termination_status(m3))\n",
    "println(\"Optimal parameters using ridge regression: \", value.(u))"
   ]
  },
  {
   "cell_type": "code",
   "execution_count": null,
   "id": "exotic-business",
   "metadata": {},
   "outputs": [],
   "source": [
    "using PyPlot, LinearAlgebra\n",
    "\n",
    "npts = 100\n",
    "xfine = range(0, stop=0.5, length=npts) #0.6\n",
    "ffine = ones(npts)\n",
    "\n",
    "for j = 1:k\n",
    "    ffine = [ffine.*xfine ones(npts)]\n",
    "end\n",
    "\n",
    "yfine = ffine * u_opt\n",
    "\n",
    "plot(x, y, \"b.\")\n",
    "plot(xfine,yfine,\"r-\")\n",
    "grid()"
   ]
  },
  {
   "cell_type": "markdown",
   "id": "regular-climb",
   "metadata": {},
   "source": [
    "The fit get worse compared to (a)\n",
    "\n",
    "magnitudes of the coeﬃcients in this fitting gets smaller compared to (a)"
   ]
  },
  {
   "cell_type": "markdown",
   "id": "infinite-characteristic",
   "metadata": {},
   "source": [
    "#### (c)"
   ]
  },
  {
   "cell_type": "code",
   "execution_count": 6,
   "id": "surgical-thickness",
   "metadata": {},
   "outputs": [],
   "source": [
    "k = 15\n",
    "\n",
    "n = length(x)\n",
    "A = zeros(n, k+1)\n",
    "for i = 1:n\n",
    "    for j = 1:k+1\n",
    "        A[i,j] = x[i]^(k+1-j)\n",
    "    end\n",
    "end"
   ]
  },
  {
   "cell_type": "code",
   "execution_count": null,
   "id": "valuable-villa",
   "metadata": {},
   "outputs": [],
   "source": [
    "using JuMP, Gurobi\n",
    "\n",
    "\n",
    "lambda_array = []\n",
    "error_array = []\n",
    "nonzero_array = []\n",
    "\n",
    "for lambda in [10, 1, 0.1, 0.01, 0.001, 0.0001, 0.00001, 0.000001]\n",
    "\n",
    "    m4 = Model(Gurobi.Optimizer)\n",
    "    set_optimizer_attribute(m4, \"OutputFlag\", 0);\n",
    "\n",
    "    @variable(m4, t[1:k+1])\n",
    "    @variable(m4, u[1:k+1])\n",
    "\n",
    "\n",
    "    @constraint(m4, u .<= t)\n",
    "    @constraint(m4, -t .<= u)\n",
    "\n",
    "    @objective(m4, Min, sum((y-A*u).^2) + lambda*sum(t))\n",
    "\n",
    "    optimize!(m4)\n",
    "    u_opt = JuMP.value.(u)\n",
    "    \n",
    "    push!(lambda_array, lambda)   \n",
    "    push!(error_array, objective_value(m4))\n",
    "\n",
    "    nonezero_n = 0\n",
    "\n",
    "    for i = 1:k+1\n",
    "        if abs(uopt[i]) >= 1/(10^5)\n",
    "            nonezero_n = 1 + nonezero_n\n",
    "        end\n",
    "    end\n",
    "    \n",
    "    push!(nonzero_array, nonezero_n)\n",
    "\n",
    "end"
   ]
  },
  {
   "cell_type": "code",
   "execution_count": null,
   "id": "boxed-martin",
   "metadata": {},
   "outputs": [],
   "source": [
    "using PyPlot\n",
    "\n",
    "plot(lambda_array, error_array,\"r-\")\n",
    "xlabel(\"lambda\")\n",
    "ylabel(\"error\")\n",
    "grid()"
   ]
  },
  {
   "cell_type": "code",
   "execution_count": null,
   "id": "fitted-receipt",
   "metadata": {},
   "outputs": [],
   "source": [
    "using PyPlot\n",
    "\n",
    "plot(lambda_array, nonzero_array, \"r-\")\n",
    "xlabel(\"lambda\")\n",
    "ylabel(\"nonzero_array\")\n",
    "grid()"
   ]
  },
  {
   "cell_type": "markdown",
   "id": "american-marine",
   "metadata": {},
   "source": [
    "The lambda fits the data relatively well is 0.001"
   ]
  },
  {
   "cell_type": "code",
   "execution_count": 7,
   "id": "coordinated-divide",
   "metadata": {},
   "outputs": [],
   "source": [
    "k = 15\n",
    "\n",
    "n = length(x)\n",
    "A = zeros(n, k+1)\n",
    "for i = 1:n\n",
    "    for j = 1:k+1\n",
    "        A[i,j] = x[i]^(k+1-j)\n",
    "    end\n",
    "end"
   ]
  },
  {
   "cell_type": "code",
   "execution_count": null,
   "id": "interpreted-testing",
   "metadata": {},
   "outputs": [],
   "source": [
    "using JuMP, Gurobi\n",
    "\n",
    "lambda = 0.001 \n",
    "\n",
    "m5 = Model(Gurobi.Optimizer)\n",
    "set_optimizer_attribute(m5, \"OutputFlag\", 0);\n",
    "\n",
    "\n",
    "@variable(m5, t[1:k+1])\n",
    "@variable(m5, u[1:k+1])\n",
    "\n",
    "@constraint(m5, u .<= t)\n",
    "@constraint(m5, -t .<= u)\n",
    "\n",
    "@objective(m5, Min, sum((y-A*u).^2) + lambda*sum(t))\n",
    "\n",
    "optimize!(m5)\n",
    "u_opt = JuMP.value.(u)\n",
    "println(termination_status(m5))\n",
    "println(\"Optimal parameters for lambda=0.001: \", u_opt)"
   ]
  },
  {
   "cell_type": "code",
   "execution_count": null,
   "id": "direct-poverty",
   "metadata": {},
   "outputs": [],
   "source": [
    "using PyPlot, LinearAlgebra\n",
    "\n",
    "npts = 100\n",
    "xfine = range(0, stop=0.5, length=npts) #0.6\n",
    "ffine = ones(npts)\n",
    "\n",
    "for j = 1:k\n",
    "    ffine = [ffine.*xfine ones(npts)]\n",
    "end\n",
    "\n",
    "yfine = ffine * u_opt\n",
    "\n",
    "plot(x, y, \"b.\")\n",
    "plot(xfine,yfine,\"r-\")\n",
    "grid()"
   ]
  }
 ],
 "metadata": {
  "kernelspec": {
   "display_name": "Julia 1.5.3",
   "language": "julia",
   "name": "julia-1.5"
  },
  "language_info": {
   "file_extension": ".jl",
   "mimetype": "application/julia",
   "name": "julia",
   "version": "1.5.3"
  }
 },
 "nbformat": 4,
 "nbformat_minor": 5
}
