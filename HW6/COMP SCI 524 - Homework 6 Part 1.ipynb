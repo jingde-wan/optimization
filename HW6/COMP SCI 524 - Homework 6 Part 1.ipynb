{
 "cells": [
  {
   "cell_type": "markdown",
   "metadata": {},
   "source": [
    "### COMP SCI 524\n",
    "\n",
    "### Homework 6"
   ]
  },
  {
   "cell_type": "markdown",
   "metadata": {},
   "source": [
    "### Q1"
   ]
  },
  {
   "cell_type": "markdown",
   "metadata": {},
   "source": [
    "let $r$ be the raduis of the smallesr circle to contain all the points.\n",
    "\n",
    "let (a,b) be the center of the circle above.\n",
    "\n",
    "let $X$ be the set of randomly generated points.\n",
    "\n",
    "model:\n",
    "\n",
    "\\begin{equation*}\n",
    "\\begin{aligned}\n",
    "& \\underset{a,b,r}{\\text{min}}\n",
    "& & r \\\\\n",
    "& \\text{s.t.}\n",
    "& & (X_{1,i}-a)^{2}+(X_{2,i}-b)^{2} \\leq r^{2}\n",
    "\\end{aligned}\n",
    "\\end{equation*}"
   ]
  },
  {
   "cell_type": "code",
   "execution_count": 13,
   "metadata": {},
   "outputs": [
    {
     "name": "stderr",
     "output_type": "stream",
     "text": [
      "┌ Info: Precompiling Gurobi [2e9cd046-0924-5485-92f1-d5272153d98b]\n",
      "└ @ Base loading.jl:1278\n",
      "ERROR: LoadError:     Gurobi not properly installed. Please run Pkg.build(\"Gurobi\"). For\n",
      "    more information go to https://github.com/JuliaOpt/Gurobi.jl\n",
      "\n",
      "Stacktrace:\n",
      " [1] error(::String) at ./error.jl:33\n",
      " [2] top-level scope at /Users/wanjingde/.julia/packages/Gurobi/VhpiN/src/Gurobi.jl:7\n",
      " [3] include(::Function, ::Module, ::String) at ./Base.jl:380\n",
      " [4] include(::Module, ::String) at ./Base.jl:368\n",
      " [5] top-level scope at none:2\n",
      " [6] eval at ./boot.jl:331 [inlined]\n",
      " [7] eval(::Expr) at ./client.jl:467\n",
      " [8] top-level scope at ./none:3\n",
      "in expression starting at /Users/wanjingde/.julia/packages/Gurobi/VhpiN/src/Gurobi.jl:4\n"
     ]
    },
    {
     "ename": "LoadError",
     "evalue": "\u001b[91mFailed to precompile Gurobi [2e9cd046-0924-5485-92f1-d5272153d98b] to /Users/wanjingde/.julia/compiled/v1.5/Gurobi/do9v6_gIyoJ.ji.\u001b[39m",
     "output_type": "error",
     "traceback": [
      "\u001b[91mFailed to precompile Gurobi [2e9cd046-0924-5485-92f1-d5272153d98b] to /Users/wanjingde/.julia/compiled/v1.5/Gurobi/do9v6_gIyoJ.ji.\u001b[39m",
      "",
      "Stacktrace:",
      " [1] error(::String) at ./error.jl:33",
      " [2] compilecache(::Base.PkgId, ::String) at ./loading.jl:1305",
      " [3] _require(::Base.PkgId) at ./loading.jl:1030",
      " [4] require(::Base.PkgId) at ./loading.jl:928",
      " [5] require(::Module, ::Symbol) at ./loading.jl:923",
      " [6] include_string(::Function, ::Module, ::String, ::String) at ./loading.jl:1091"
     ]
    }
   ],
   "source": [
    "using JuMP, Gurobi\n",
    "\n",
    "m = Model(Gurobi.Optimizer)\n",
    "# suppress Gurobi output\n",
    "set_optimizer_attribute(m, \"OutputFlag\", 0);\n",
    "\n",
    "@variable(m, r)\n",
    "@variable(m, a)\n",
    "@variable(m, b)\n",
    "\n",
    "for i in 1:50\n",
    "    @constraint(m, [r; (X[1,i]-a); (X[2,i]-b)] in SecondOrderCone())\n",
    "end\n",
    "\n",
    "@objective(m, Min, r);\n",
    "\n",
    "optimize!(m)\n",
    "println(termination_status(m))"
   ]
  },
  {
   "cell_type": "code",
   "execution_count": null,
   "metadata": {},
   "outputs": [],
   "source": [
    "x1 = JuMP.value.(a)\n",
    "x2 = JuMP.value.(b)\n",
    "r1 = JuMP.objective_value(m)"
   ]
  },
  {
   "cell_type": "code",
   "execution_count": 3,
   "metadata": {},
   "outputs": [
    {
     "data": {
      "image/png": "[encoded data removed]",
      "text/plain": [
       "Figure(PyObject <Figure size 640x480 with 1 Axes>)"
      ]
     },
     "metadata": {},
     "output_type": "display_data"
    },
    {
     "data": {
      "text/plain": [
       "(1.7935416330332739, 6.357777840874226, 0.75466379419765, 6.280418191176377)"
      ]
     },
     "execution_count": 3,
     "metadata": {},
     "output_type": "execute_result"
    }
   ],
   "source": [
    "using PyPlot\n",
    "X = 4 .+ randn(2,50) # generate 50 random points\n",
    "t = range(0,stop=2*3.141592654,length=100) # parameter that traverses the circle\n",
    "# r1 = 2; x1 = 4; x2 = 4 # radius and coordinates of the center\n",
    "\n",
    "plot( x1 .+ r1*cos.(t), x2 .+ r1*sin.(t)) # plot circle radius r with center (x1,x2)\n",
    "scatter( X[1,:], X[2,:], color=\"black\") # plot the 50 points\n",
    "scatter(x1, x2, color = \"red\")\n",
    "axis(\"equal\") # make x and y scales equal"
   ]
  },
  {
   "cell_type": "markdown",
   "metadata": {},
   "source": [
    "### Q3"
   ]
  },
  {
   "cell_type": "markdown",
   "metadata": {},
   "source": [
    "#### (a)\n",
    "\n",
    "see handwrittings."
   ]
  },
  {
   "cell_type": "markdown",
   "metadata": {},
   "source": [
    "#### (b)"
   ]
  },
  {
   "cell_type": "code",
   "execution_count": 9,
   "metadata": {},
   "outputs": [
    {
     "data": {
      "text/plain": [
       "3-element Array{Float64,1}:\n",
       " -1.9999999999999996\n",
       "  3.000000000000001\n",
       " 12.0"
      ]
     },
     "execution_count": 9,
     "metadata": {},
     "output_type": "execute_result"
    }
   ],
   "source": [
    "using LinearAlgebra\n",
    "\n",
    "Q = [2 4 -3; 4 2 -3; -3 -3 9]\n",
    "\n",
    "# use eigvals() to get the eigenvalues of a matrix\n",
    "(Lambda, U) = eigen(Q)\n",
    "Lambda"
   ]
  },
  {
   "cell_type": "markdown",
   "metadata": {},
   "source": [
    "One eigenvalue of Q = -1.999 so Q is not positive definite. $v^{T}Qv$ is not a ellipsoid."
   ]
  },
  {
   "cell_type": "markdown",
   "metadata": {},
   "source": [
    "#### (c)"
   ]
  },
  {
   "cell_type": "code",
   "execution_count": 10,
   "metadata": {},
   "outputs": [
    {
     "data": {
      "text/plain": [
       "3×3 Array{Float64,2}:\n",
       " -2.0  0.0   0.0\n",
       "  0.0  3.0   0.0\n",
       "  0.0  0.0  12.0"
      ]
     },
     "execution_count": 10,
     "metadata": {},
     "output_type": "execute_result"
    }
   ],
   "source": [
    "U * diagm(Lambda) * U'\n",
    "diagm(Lambda)"
   ]
  },
  {
   "cell_type": "markdown",
   "metadata": {},
   "source": [
    "Then see the handwriting above."
   ]
  }
 ],
 "metadata": {
  "kernelspec": {
   "display_name": "Julia 1.5.3",
   "language": "julia",
   "name": "julia-1.5"
  },
  "language_info": {
   "file_extension": ".jl",
   "mimetype": "application/julia",
   "name": "julia",
   "version": "1.5.3"
  }
 },
 "nbformat": 4,
 "nbformat_minor": 5
}
